{
  "nbformat": 4,
  "nbformat_minor": 0,
  "metadata": {
    "colab": {
      "name": "Day1.ipynb",
      "provenance": [],
      "authorship_tag": "ABX9TyOah3yF3ZYeUOORqjtWwu8f",
      "include_colab_link": true
    },
    "kernelspec": {
      "name": "python3",
      "display_name": "Python 3"
    },
    "language_info": {
      "name": "python"
    }
  },
  "cells": [
    {
      "cell_type": "markdown",
      "metadata": {
        "id": "view-in-github",
        "colab_type": "text"
      },
      "source": [
        "<a href=\"https://colab.research.google.com/github/TheLbh3/TheLbh3/blob/main/Day1.ipynb\" target=\"_parent\"><img src=\"https://colab.research.google.com/assets/colab-badge.svg\" alt=\"Open In Colab\"/></a>"
      ]
    },
    {
      "cell_type": "code",
      "execution_count": null,
      "metadata": {
        "id": "PLfAK1eL7oVd"
      },
      "outputs": [],
      "source": [
        ""
      ]
    },
    {
      "cell_type": "code",
      "source": [
        "print('louis heard')"
      ],
      "metadata": {
        "colab": {
          "base_uri": "https://localhost:8080/"
        },
        "id": "hTIdumou8RDN",
        "outputId": "811a83c8-da7b-46ac-abb9-bc1db664686f"
      },
      "execution_count": 1,
      "outputs": [
        {
          "output_type": "stream",
          "name": "stdout",
          "text": [
            "louis heard\n"
          ]
        }
      ]
    },
    {
      "cell_type": "code",
      "source": [
        "print(\"louis\")\n",
        "print(\"heard\")\n",
        "#fjfbcxcjlckj"
      ],
      "metadata": {
        "colab": {
          "base_uri": "https://localhost:8080/"
        },
        "id": "BYhhrjjj8rrr",
        "outputId": "7df66276-9ec5-4da5-b83d-fe2bc982ba42"
      },
      "execution_count": 5,
      "outputs": [
        {
          "output_type": "stream",
          "name": "stdout",
          "text": [
            "louis\n",
            "heard\n"
          ]
        }
      ]
    },
    {
      "cell_type": "code",
      "source": [
        "#Exercise 1\n",
        "x=\"louis\"\n",
        "y=\"heard\"\n",
        "z=\"hello\" #added by abhishek\n",
        "print(x+y+z+\"third\")"
      ],
      "metadata": {
        "colab": {
          "base_uri": "https://localhost:8080/"
        },
        "id": "v7lrc7R48_uh",
        "outputId": "50bf867f-262b-41f9-d271-237c88ad6c48"
      },
      "execution_count": 10,
      "outputs": [
        {
          "output_type": "stream",
          "name": "stdout",
          "text": [
            "louisheardhellothird\n"
          ]
        }
      ]
    },
    {
      "cell_type": "code",
      "source": [
        "#Exercise 2\n",
        "print(\"I am Learning Python\")\n",
        "#It is possible to write like this"
      ],
      "metadata": {
        "colab": {
          "base_uri": "https://localhost:8080/"
        },
        "id": "NYnafWbu8x74",
        "outputId": "7c5c83b9-403c-46ec-ac4f-d9e628dc96af"
      },
      "execution_count": 11,
      "outputs": [
        {
          "output_type": "stream",
          "name": "stdout",
          "text": [
            "I am Learning Python\n"
          ]
        }
      ]
    },
    {
      "cell_type": "code",
      "source": [
        "Louis132526=\"chocolate\"\n",
        "heard=\"cake\"\n",
        "print(Louis132526+heard+\"is nice\")"
      ],
      "metadata": {
        "colab": {
          "base_uri": "https://localhost:8080/"
        },
        "id": "ZBbB89T5_XKw",
        "outputId": "2e4f182b-f251-43ad-a250-fea2c1727512"
      },
      "execution_count": 17,
      "outputs": [
        {
          "output_type": "stream",
          "name": "stdout",
          "text": [
            "chocolatecakeis nice\n"
          ]
        }
      ]
    },
    {
      "cell_type": "code",
      "source": [
        "#Exercise 3\n",
        "age=36\n",
        "print(age)"
      ],
      "metadata": {
        "colab": {
          "base_uri": "https://localhost:8080/"
        },
        "id": "gPCBWho8AyA9",
        "outputId": "d1d28150-dadd-4264-ec61-b7d0089c0f65"
      },
      "execution_count": 18,
      "outputs": [
        {
          "output_type": "stream",
          "name": "stdout",
          "text": [
            "36\n"
          ]
        }
      ]
    },
    {
      "cell_type": "code",
      "source": [
        "x=25\n",
        "y=20\n",
        "print(x+y+10)"
      ],
      "metadata": {
        "colab": {
          "base_uri": "https://localhost:8080/"
        },
        "id": "0mVNEGqrBOb_",
        "outputId": "f56b4474-33e4-46b8-9836-da4daac040f1"
      },
      "execution_count": 19,
      "outputs": [
        {
          "output_type": "stream",
          "name": "stdout",
          "text": [
            "55\n"
          ]
        }
      ]
    },
    {
      "cell_type": "code",
      "source": [
        "a=input(\"louis\")\n",
        "print(a)"
      ],
      "metadata": {
        "colab": {
          "base_uri": "https://localhost:8080/"
        },
        "id": "bjgtHSaUBg6B",
        "outputId": "af8f9160-dfad-4999-fa40-226e2ea4fb08"
      },
      "execution_count": 20,
      "outputs": [
        {
          "output_type": "stream",
          "name": "stdout",
          "text": [
            "louisyfhgvhjbhbk\n",
            "yfhgvhjbhbk\n"
          ]
        }
      ]
    },
    {
      "cell_type": "code",
      "source": [
        "name=input(\"type your name\")\n",
        "age=input(\"type your age\")\n",
        "print(name,age)"
      ],
      "metadata": {
        "colab": {
          "base_uri": "https://localhost:8080/"
        },
        "id": "O6pVubCDB7h9",
        "outputId": "ac734117-c502-4d50-f251-68c8b3c99e29"
      },
      "execution_count": 22,
      "outputs": [
        {
          "output_type": "stream",
          "name": "stdout",
          "text": [
            "type your namelouis\n",
            "type your age36\n",
            "louis 36\n"
          ]
        }
      ]
    },
    {
      "cell_type": "code",
      "source": [
        "#Exercise 4\n",
        "x=input(\"name\")\n",
        "y=input(\"age\")\n",
        "print(\"Hey\", x, \"I am glad you started learning python at the age of\", y)"
      ],
      "metadata": {
        "colab": {
          "base_uri": "https://localhost:8080/"
        },
        "id": "iJai0YyyCteS",
        "outputId": "978a4abb-d977-415e-f621-af697de11255"
      },
      "execution_count": 23,
      "outputs": [
        {
          "output_type": "stream",
          "name": "stdout",
          "text": [
            "namelouis\n",
            "age36\n",
            "Hey louis I am glad you started learning python at the age of 36\n"
          ]
        }
      ]
    },
    {
      "cell_type": "code",
      "source": [
        "a= \"louis\"\n",
        "print(a)"
      ],
      "metadata": {
        "colab": {
          "base_uri": "https://localhost:8080/"
        },
        "id": "JILqpkWbDwKP",
        "outputId": "82ac0a5c-9e56-4d44-88db-c2333981db7f"
      },
      "execution_count": 28,
      "outputs": [
        {
          "output_type": "stream",
          "name": "stdout",
          "text": [
            "louis\n"
          ]
        }
      ]
    },
    {
      "cell_type": "code",
      "source": [
        "#Exercise 5\n",
        "discount=43.8\n",
        "height=143\n",
        "address=\"#301, Pelican Street\"\n",
        "print(type(address))"
      ],
      "metadata": {
        "colab": {
          "base_uri": "https://localhost:8080/"
        },
        "id": "TABLDdvlEuUK",
        "outputId": "dda03754-5660-4fce-87fd-1431fdfe7446"
      },
      "execution_count": 31,
      "outputs": [
        {
          "output_type": "stream",
          "name": "stdout",
          "text": [
            "<class 'str'>\n"
          ]
        }
      ]
    },
    {
      "cell_type": "code",
      "source": [
        "a=[3,4,5,6,7,\"apple\",\"banana\"]\n",
        "b=(3,4,1,2,\"apple\")\n",
        "print(a)\n",
        "print(b)\n",
        "print(type(a))\n",
        "print(type(b))"
      ],
      "metadata": {
        "colab": {
          "base_uri": "https://localhost:8080/"
        },
        "id": "ZW9fZJ5LFbhn",
        "outputId": "18e0a022-258c-4b20-be9b-945036ff8661"
      },
      "execution_count": 38,
      "outputs": [
        {
          "output_type": "stream",
          "name": "stdout",
          "text": [
            "[3, 4, 5, 6, 7, 'apple', 'banana']\n",
            "(3, 4, 1, 2, 'apple')\n",
            "<class 'list'>\n",
            "<class 'tuple'>\n"
          ]
        }
      ]
    },
    {
      "cell_type": "code",
      "source": [
        ""
      ],
      "metadata": {
        "id": "_lvAuMrDFtE_"
      },
      "execution_count": null,
      "outputs": []
    }
  ]
}